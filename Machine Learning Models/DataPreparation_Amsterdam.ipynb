{
  "nbformat": 4,
  "nbformat_minor": 0,
  "metadata": {
    "colab": {
      "provenance": [],
      "collapsed_sections": [
        "VdvzFsKj3Bau",
        "0riIOfEY1ufH"
      ]
    },
    "kernelspec": {
      "name": "python3",
      "display_name": "Python 3"
    },
    "language_info": {
      "name": "python"
    }
  },
  "cells": [
    {
      "cell_type": "markdown",
      "source": [
        "# Load Packages and Data"
      ],
      "metadata": {
        "id": "VdvzFsKj3Bau"
      }
    },
    {
      "cell_type": "code",
      "source": [
        "import pandas as pd\n",
        "import numpy as np\n",
        "import os"
      ],
      "metadata": {
        "id": "u6XogWhm29HO"
      },
      "execution_count": null,
      "outputs": []
    },
    {
      "cell_type": "markdown",
      "source": [
        "The CSV file contains data for points within Amsterdam's study area, captured at a 5-meter resolution. It includes coordinates, urban morphology features, and dynamic meteorological data for 12 days within four different months. Extracted using ArcGIS Pro tools."
      ],
      "metadata": {
        "id": "-CeOqavD3-zV"
      }
    },
    {
      "cell_type": "code",
      "source": [
        "param_excel_avg = r\"D:\\Code\\Temp_Prediction_Amsterdam\\Param\\Raster5m_AVG_ExportTable_NEW.csv\"\n",
        "param_excel_min = r\"D:\\Code\\Temp_Prediction_Amsterdam\\Param\\Raster5m_MIN_ExportTable_NEW.csv\"\n",
        "param_excel_max = r\"D:\\Code\\Temp_Prediction_Amsterdam\\Param\\Raster5m_MAX_ExportTable_NEW.csv\""
      ],
      "metadata": {
        "id": "3Hh0zleF3hc2"
      },
      "execution_count": null,
      "outputs": []
    },
    {
      "cell_type": "markdown",
      "source": [
        "# Parameters"
      ],
      "metadata": {
        "id": "0riIOfEY1ufH"
      }
    },
    {
      "cell_type": "code",
      "source": [
        "param_excel_df_avg = pd.read_csv(param_excel_avg)\n",
        "param_excel_df_min = pd.read_csv(param_excel_min)\n",
        "param_excel_df_max = pd.read_csv(param_excel_max)"
      ],
      "metadata": {
        "id": "wcu-t7rU2mi8"
      },
      "execution_count": null,
      "outputs": []
    },
    {
      "cell_type": "code",
      "source": [
        "# Create empty data frame\n",
        "# index = 4 month * 31 days * num_points\n",
        "df = pd.DataFrame(columns=['PointID', 'X', 'Y', 'Area', 'H', 'Wall', 'DP', 'DW', 'LAI', 'Previous', 'SVF', 'SR', 'Wind', 'RH', 'DoY'], index=range(len(param_excel_df)))"
      ],
      "metadata": {
        "id": "OsbUAT8kAirb"
      },
      "execution_count": null,
      "outputs": []
    },
    {
      "cell_type": "code",
      "source": [
        "# Fill the static variables of dataframe\n",
        "\n",
        "df['PointID'] = np.arange(1, len(param_excel_df)+1)\n",
        "\n",
        "df['Area'] = np.array(param_excel_df['area_intersect_50'])\n",
        "df['H'] = np.array(param_excel_df['zmed_avg_50_amst'])\n",
        "df['Wall'] = np.array(param_excel_df['wall_intersect_50'])\n",
        "df['DP'] = np.array(param_excel_df['DP_Avg_50_amst'])\n",
        "df['DW'] = np.array(param_excel_df['DW_Avg_50_amst'])\n",
        "df['LAI'] = np.array(param_excel_df['LAI_Resample_res5m'])\n",
        "df['Previous'] = np.array(param_excel_df['Previous_Resample_res5m'])\n",
        "df['SVF'] = np.array(param_excel_df['SVF_Avg_50_amst'])\n",
        "\n",
        "df['X'] = np.array(param_excel_df['X'])\n",
        "df['Y'] = np.array(param_excel_df['Y'])"
      ],
      "metadata": {
        "id": "PNeu0U17I1NZ"
      },
      "execution_count": null,
      "outputs": []
    },
    {
      "cell_type": "markdown",
      "source": [
        "## Average"
      ],
      "metadata": {
        "id": "hJeGztKYJROv"
      }
    },
    {
      "cell_type": "code",
      "source": [
        "df['DoY'] =  17  # Jan_17\n",
        "df['SR'] = np.array(param_excel_df['b17_SolarRad_Jan_Avg_50_res5'])\n",
        "df['RH'] = np.array(param_excel_df['RH_Jan_17'])\n",
        "df['Wind'] = np.array(param_excel_df['Wind_Jan_17'])\n",
        "\n",
        "df.to_csv(r\"D:\\Code\\Temp_Prediction_Amsterdam\\Param\\Parameters_DataFrame_AVG_Jan_17.csv\",index=False)\n",
        "\n",
        "df['DoY'] = 18   # Jan_18\n",
        "df['SR'] = np.array(param_excel_df['b18_SolarRad_Jan_Avg_50_res5'])\n",
        "df['RH'] = np.array(param_excel_df['RH_Jan_18'])\n",
        "df['Wind'] = np.array(param_excel_df['Wind_Jan_18'])\n",
        "\n",
        "df.to_csv(r\"D:\\Code\\Temp_Prediction_Amsterdam\\Param\\Parameters_DataFrame_AVG_Jan_18.csv\",index=False)\n",
        "\n",
        "df['DoY'] =  19  # Jan_19\n",
        "df['SR'] = np.array(param_excel_df['b19_SolarRad_Jan_Avg_50_res5'])\n",
        "df['RH'] = np.array(param_excel_df['RH_Jan_19'])\n",
        "df['Wind'] = np.array(param_excel_df['Wind_Jan_19'])\n",
        "\n",
        "df.to_csv(r\"D:\\Code\\Temp_Prediction_Amsterdam\\Param\\Parameters_DataFrame_AVG_Jan_19.csv\",index=False)\n",
        "\n",
        "\n",
        "df['DoY'] =  124  # May_04\n",
        "df['SR'] = np.array(param_excel_df['b4_SolarRad_May_Avg_50_res5'])\n",
        "df['RH'] = np.array(param_excel_df['RH_May_04'])\n",
        "df['Wind'] = np.array(param_excel_df['Wind_May_04'])\n",
        "\n",
        "df.to_csv(r\"D:\\Code\\Temp_Prediction_Amsterdam\\Param\\Parameters_DataFrame_AVG_May_04.csv\",index=False)\n",
        "\n",
        "df['DoY'] =  125 # May_05\n",
        "df['SR'] = np.array(param_excel_df['b5_SolarRad_May_Avg_50_res5'])\n",
        "df['RH'] = np.array(param_excel_df['RH_May_05'])\n",
        "df['Wind'] = np.array(param_excel_df['Wind_May_05'])\n",
        "\n",
        "df.to_csv(r\"D:\\Code\\Temp_Prediction_Amsterdam\\Param\\Parameters_DataFrame_AVG_May_05.csv\",index=False)\n",
        "\n",
        "df['DoY'] =  126  # May_06\n",
        "df['SR'] = np.array(param_excel_df['b6_SolarRad_May_Avg_50_res5'])\n",
        "df['RH'] = np.array(param_excel_df['RH_May_06'])\n",
        "df['Wind'] = np.array(param_excel_df['Wind_May_06'])\n",
        "\n",
        "df.to_csv(r\"D:\\Code\\Temp_Prediction_Amsterdam\\Param\\Parameters_DataFrame_AVG_May_06.csv\",index=False)\n",
        "\n",
        "df['DoY'] =  199  # July_18\n",
        "df['SR'] = np.array(param_excel_df['b18_SolarRad_July_Avg_50_res5'])\n",
        "df['RH'] = np.array(param_excel_df['RH_July_18'])\n",
        "df['Wind'] = np.array(param_excel_df['Wind_July_18'])\n",
        "\n",
        "df.to_csv(r\"D:\\Code\\Temp_Prediction_Amsterdam\\Param\\Parameters_DataFrame_AVG_July_18.csv\",index=False)\n",
        "\n",
        "df['DoY'] =  200  # July_19\n",
        "df['SR'] = np.array(param_excel_df['b19_SolarRad_July_Avg_50_res5'])\n",
        "df['RH'] = np.array(param_excel_df['RH_July_19'])\n",
        "df['Wind'] = np.array(param_excel_df['Wind_July_19'])\n",
        "\n",
        "df.to_csv(r\"D:\\Code\\Temp_Prediction_Amsterdam\\Param\\Parameters_DataFrame_AVG_July_19.csv\",index=False)\n",
        "\n",
        "df['DoY'] =  201  # July_20\n",
        "df['SR'] = np.array(param_excel_df['b20_SolarRad_July_Avg_50_res5'])\n",
        "df['RH'] = np.array(param_excel_df['RH_July_20'])\n",
        "df['Wind'] = np.array(param_excel_df['Wind_July_20'])\n",
        "\n",
        "df.to_csv(r\"D:\\Code\\Temp_Prediction_Amsterdam\\Param\\Parameters_DataFrame_AVG_July_20.csv\",index=False)\n",
        "\n",
        "df['DoY'] =  297  # Oct_24\n",
        "df['SR'] = np.array(param_excel_df['b24_SolarRad_Oct_Avg_50_res5'])\n",
        "df['RH'] = np.array(param_excel_df['RH_Oct_24'])\n",
        "df['Wind'] = np.array(param_excel_df['Wind_Oct_24'])\n",
        "\n",
        "df.to_csv(r\"D:\\Code\\Temp_Prediction_Amsterdam\\Param\\Parameters_DataFrame_Oct_24.csv\",index=False)\n",
        "\n",
        "df['DoY'] =  298 # Oct_25\n",
        "df['SR'] = np.array(param_excel_df['b25_SolarRad_Oct_Avg_50_res5'])\n",
        "df['RH'] = np.array(param_excel_df['RH_Oct_25'])\n",
        "df['Wind'] = np.array(param_excel_df['Wind_Oct_25'])\n",
        "\n",
        "df.to_csv(r\"D:\\Code\\Temp_Prediction_Amsterdam\\Param\\Parameters_DataFrame_AVG_Oct_25.csv\",index=False)\n",
        "\n",
        "df['DoY'] =  299  # Oct_26\n",
        "df['SR'] = np.array(param_excel_df['b26_SolarRad_Oct_Avg_50_res5'])\n",
        "df['RH'] = np.array(param_excel_df['RH_Oct_26'])\n",
        "df['Wind'] = np.array(param_excel_df['Wind_Oct_26'])\n",
        "\n",
        "df.to_csv(r\"D:\\Code\\Temp_Prediction_Amsterdam\\Param\\Parameters_DataFrame_AVG_Oct_26.csv\",index=False)"
      ],
      "metadata": {
        "id": "RMFGfgMRJTfO"
      },
      "execution_count": null,
      "outputs": []
    },
    {
      "cell_type": "markdown",
      "source": [
        "## Maximum"
      ],
      "metadata": {
        "id": "mWR4OhCdJv1r"
      }
    },
    {
      "cell_type": "code",
      "source": [
        "df['DoY'] =  17  # Jan_17\n",
        "df['SR'] = np.array(param_excel_df['b17_SolarRad_Jan_Avg_50_res5'])\n",
        "df['RH'] = np.array(param_excel_df['RH_MAX_Jan_17'])\n",
        "df['Wind'] = np.array(param_excel_df['Wind_MAX_Jan_17'])\n",
        "\n",
        "df.to_csv(r\"D:\\Code\\Temp_Prediction_Amsterdam\\Param\\Parameters_DataFrame_MAX_Jan_17.csv\",index=False)\n",
        "\n",
        "df['DoY'] = 18   # Jan_18\n",
        "df['SR'] = np.array(param_excel_df['b18_SolarRad_Jan_Avg_50_res5'])\n",
        "df['RH'] = np.array(param_excel_df['RH_MAX_Jan_18'])\n",
        "df['Wind'] = np.array(param_excel_df['Wind_MAX_Jan_18'])\n",
        "\n",
        "df.to_csv(r\"D:\\Code\\Temp_Prediction_Amsterdam\\Param\\Parameters_DataFrame_MAX_Jan_18.csv\",index=False)\n",
        "\n",
        "df['DoY'] =  19  # Jan_19\n",
        "df['SR'] = np.array(param_excel_df['b19_SolarRad_Jan_Avg_50_res5'])\n",
        "df['RH'] = np.array(param_excel_df['RH_MAX_Jan_19'])\n",
        "df['Wind'] = np.array(param_excel_df['Wind_MAX_Jan_19'])\n",
        "\n",
        "df.to_csv(r\"D:\\Code\\Temp_Prediction_Amsterdam\\Param\\Parameters_DataFrame_MAX_Jan_19.csv\",index=False)\n",
        "\n",
        "\n",
        "df['DoY'] =  124  # May_04\n",
        "df['SR'] = np.array(param_excel_df['b4_SolarRad_May_Avg_50_res5'])\n",
        "df['RH'] = np.array(param_excel_df['RH_MIN_MAX_04'])\n",
        "df['Wind'] = np.array(param_excel_df['Wind_MAX_May_04'])\n",
        "\n",
        "df.to_csv(r\"D:\\Code\\Temp_Prediction_Amsterdam\\Param\\Parameters_DataFrame_MAX_May_04.csv\",index=False)\n",
        "\n",
        "df['DoY'] =  125 # May_05\n",
        "df['SR'] = np.array(param_excel_df['b5_SolarRad_May_Avg_50_res5'])\n",
        "df['RH'] = np.array(param_excel_df['RH_MAX_May_05'])\n",
        "df['Wind'] = np.array(param_excel_df['Wind_MAX_May_05'])\n",
        "\n",
        "df.to_csv(r\"D:\\Code\\Temp_Prediction_Amsterdam\\Param\\Parameters_DataFrame_MAX_May_05.csv\",index=False)\n",
        "\n",
        "df['DoY'] =  126  # May_06\n",
        "df['SR'] = np.array(param_excel_df['b6_SolarRad_May_Avg_50_res5'])\n",
        "df['RH'] = np.array(param_excel_df['RH_MAX_May_06'])\n",
        "df['Wind'] = np.array(param_excel_df['Wind_MAX_May_06'])\n",
        "\n",
        "df.to_csv(r\"D:\\Code\\Temp_Prediction_Amsterdam\\Param\\Parameters_DataFrame_MAX_May_06.csv\",index=False)\n",
        "\n",
        "df['DoY'] =  199  # July_18\n",
        "df['SR'] = np.array(param_excel_df['b18_SolarRad_July_Avg_50_res5'])\n",
        "df['RH'] = np.array(param_excel_df['RH_MAX_July_18'])\n",
        "df['Wind'] = np.array(param_excel_df['Wind_MAX_July_18'])\n",
        "\n",
        "df.to_csv(r\"D:\\Code\\Temp_Prediction_Amsterdam\\Param\\Parameters_DataFrame_MAX_July_18.csv\",index=False)\n",
        "\n",
        "df['DoY'] =  200  # July_19\n",
        "df['SR'] = np.array(param_excel_df['b19_SolarRad_July_Avg_50_res5'])\n",
        "df['RH'] = np.array(param_excel_df['RH_MAX_July_19'])\n",
        "df['Wind'] = np.array(param_excel_df['Wind_MAX_July_19'])\n",
        "\n",
        "df.to_csv(r\"D:\\Code\\Temp_Prediction_Amsterdam\\Param\\Parameters_DataFrame_MAX_July_19.csv\",index=False)\n",
        "\n",
        "df['DoY'] =  201  # July_20\n",
        "df['SR'] = np.array(param_excel_df['b20_SolarRad_July_Avg_50_res5'])\n",
        "df['RH'] = np.array(param_excel_df['RH_MAX_July_20'])\n",
        "df['Wind'] = np.array(param_excel_df['Wind_MAX_July_20'])\n",
        "\n",
        "df.to_csv(r\"D:\\Code\\Temp_Prediction_Amsterdam\\Param\\Parameters_DataFrame_MAX_July_20.csv\",index=False)\n",
        "\n",
        "df['DoY'] =  297  # Oct_24\n",
        "df['SR'] = np.array(param_excel_df['b24_SolarRad_Oct_Avg_50_res5'])\n",
        "df['RH'] = np.array(param_excel_df['RH_MAX_Oct_24'])\n",
        "df['Wind'] = np.array(param_excel_df['Wind_MAX_Oct_24'])\n",
        "\n",
        "df.to_csv(r\"D:\\Code\\Temp_Prediction_Amsterdam\\Param\\Parameters_DataFrame_MAX_Oct_24.csv\",index=False)\n",
        "\n",
        "df['DoY'] =  298 # Oct_25\n",
        "df['SR'] = np.array(param_excel_df['b25_SolarRad_Oct_Avg_50_res5'])\n",
        "df['RH'] = np.array(param_excel_df['RH_MAX_Oct_25'])\n",
        "df['Wind'] = np.array(param_excel_df['Wind_MAX_Oct_25'])\n",
        "\n",
        "df.to_csv(r\"D:\\Code\\Temp_Prediction_Amsterdam\\Param\\Parameters_DataFrame_MAX_Oct_25.csv\",index=False)\n",
        "\n",
        "df['DoY'] =  299  # Oct_26\n",
        "df['SR'] = np.array(param_excel_df['b26_SolarRad_Oct_Avg_50_res5'])\n",
        "df['RH'] = np.array(param_excel_df['RH_MAX_Oct_26'])\n",
        "df['Wind'] = np.array(param_excel_df['Wind_MAX_Oct_26'])\n",
        "\n",
        "df.to_csv(r\"D:\\Code\\Temp_Prediction_Amsterdam\\Param\\Parameters_DataFrame_MAX_Oct_26.csv\",index=False)"
      ],
      "metadata": {
        "id": "7jYjqhT5J0JV"
      },
      "execution_count": null,
      "outputs": []
    },
    {
      "cell_type": "markdown",
      "source": [
        "## Minimum"
      ],
      "metadata": {
        "id": "I7yxsZyWKisJ"
      }
    },
    {
      "cell_type": "code",
      "source": [
        "df['DoY'] =  17  # Jan_17\n",
        "df['SR'] = np.array(param_excel_df['b17_SolarRad_Jan_Avg_50_res5'])\n",
        "df['RH'] = np.array(param_excel_df['RH_MIN_Jan_17'])\n",
        "df['Wind'] = np.array(param_excel_df['Wind_MIN_Jan_17'])\n",
        "\n",
        "df.to_csv(r\"D:\\Code\\Temp_Prediction_Amsterdam\\Param\\Parameters_DataFrame_MIN_Jan_17.csv\",index=False)\n",
        "\n",
        "df['DoY'] = 18   # Jan_18\n",
        "df['SR'] = np.array(param_excel_df['b18_SolarRad_Jan_Avg_50_res5'])\n",
        "df['RH'] = np.array(param_excel_df['RH_MIN_Jan_18'])\n",
        "df['Wind'] = np.array(param_excel_df['Wind_MIN_Jan_18'])\n",
        "\n",
        "df.to_csv(r\"D:\\Code\\Temp_Prediction_Amsterdam\\Param\\Parameters_DataFrame_MIN_Jan_18.csv\",index=False)\n",
        "\n",
        "df['DoY'] =  19  # Jan_19\n",
        "df['SR'] = np.array(param_excel_df['b19_SolarRad_Jan_Avg_50_res5'])\n",
        "df['RH'] = np.array(param_excel_df['RH_MIN_Jan_19'])\n",
        "df['Wind'] = np.array(param_excel_df['Wind_MIN_Jan_19'])\n",
        "\n",
        "df.to_csv(r\"D:\\Code\\Temp_Prediction_Amsterdam\\Param\\Parameters_DataFrame_MIN_Jan_19.csv\",index=False)\n",
        "\n",
        "\n",
        "df['DoY'] =  124  # May_04\n",
        "df['SR'] = np.array(param_excel_df['b4_SolarRad_May_Avg_50_res5'])\n",
        "df['RH'] = np.array(param_excel_df['RH_MIN_May_04'])\n",
        "df['Wind'] = np.array(param_excel_df['Wind_MIN_May_04'])\n",
        "\n",
        "df.to_csv(r\"D:\\Code\\Temp_Prediction_Amsterdam\\Param\\Parameters_DataFrame_MIN_May_04.csv\",index=False)\n",
        "\n",
        "df['DoY'] =  125 # May_05\n",
        "df['SR'] = np.array(param_excel_df['b5_SolarRad_May_Avg_50_res5'])\n",
        "df['RH'] = np.array(param_excel_df['RH_MIN_May_05'])\n",
        "df['Wind'] = np.array(param_excel_df['Wind_MIN_May_05'])\n",
        "\n",
        "df.to_csv(r\"D:\\Code\\Temp_Prediction_Amsterdam\\Param\\Parameters_DataFrame_MIN_May_05.csv\",index=False)\n",
        "\n",
        "df['DoY'] =  126  # May_06\n",
        "df['SR'] = np.array(param_excel_df['b6_SolarRad_May_Avg_50_res5'])\n",
        "df['RH'] = np.array(param_excel_df['RH_MIN_May_06'])\n",
        "df['Wind'] = np.array(param_excel_df['Wind_MIN_May_06'])\n",
        "\n",
        "df.to_csv(r\"D:\\Code\\Temp_Prediction_Amsterdam\\Param\\Parameters_DataFrame_MIN_May_06.csv\",index=False)\n",
        "\n",
        "df['DoY'] =  199  # July_18\n",
        "df['SR'] = np.array(param_excel_df['b18_SolarRad_July_Avg_50_res5'])\n",
        "df['RH'] = np.array(param_excel_df['RH_MIN_July_18'])\n",
        "df['Wind'] = np.array(param_excel_df['Wind_MIN_July_18'])\n",
        "\n",
        "df.to_csv(r\"D:\\Code\\Temp_Prediction_Amsterdam\\Param\\Parameters_DataFrame_MIN_July_18.csv\",index=False)\n",
        "\n",
        "df['DoY'] =  200  # July_19\n",
        "df['SR'] = np.array(param_excel_df['b19_SolarRad_July_Avg_50_res5'])\n",
        "df['RH'] = np.array(param_excel_df['RH_MIN_July_19'])\n",
        "df['Wind'] = np.array(param_excel_df['Wind_MIN_July_19'])\n",
        "\n",
        "df.to_csv(r\"D:\\Code\\Temp_Prediction_Amsterdam\\Param\\Parameters_DataFrame_MIN_July_19.csv\",index=False)\n",
        "\n",
        "df['DoY'] =  201  # July_20\n",
        "df['SR'] = np.array(param_excel_df['b20_SolarRad_July_Avg_50_res5'])\n",
        "df['RH'] = np.array(param_excel_df['RH_MIN_July_20'])\n",
        "df['Wind'] = np.array(param_excel_df['Wind_MIN_July_20'])\n",
        "\n",
        "df.to_csv(r\"D:\\Code\\Temp_Prediction_Amsterdam\\Param\\Parameters_DataFrame_MIN_July_20.csv\",index=False)\n",
        "\n",
        "df['DoY'] =  297  # Oct_24\n",
        "df['SR'] = np.array(param_excel_df['b24_SolarRad_Oct_Avg_50_res5'])\n",
        "df['RH'] = np.array(param_excel_df['RH_MIN_Oct_24'])\n",
        "df['Wind'] = np.array(param_excel_df['Wind_MIN_Oct_24'])\n",
        "\n",
        "df.to_csv(r\"D:\\Code\\Temp_Prediction_Amsterdam\\Param\\Parameters_DataFrame_MIN_Oct_24.csv\",index=False)\n",
        "\n",
        "df['DoY'] =  298 # Oct_25\n",
        "df['SR'] = np.array(param_excel_df['b25_SolarRad_Oct_Avg_50_res5'])\n",
        "df['RH'] = np.array(param_excel_df['RH_MIN_Oct_25'])\n",
        "df['Wind'] = np.array(param_excel_df['Wind_MIN_Oct_25'])\n",
        "\n",
        "df.to_csv(r\"D:\\Code\\Temp_Prediction_Amsterdam\\Param\\Parameters_DataFrame_MIN_Oct_25.csv\",index=False)\n",
        "\n",
        "df['DoY'] =  299  # Oct_26\n",
        "df['SR'] = np.array(param_excel_df['b26_SolarRad_Oct_Avg_50_res5'])\n",
        "df['RH'] = np.array(param_excel_df['RH_MIN_Oct_26'])\n",
        "df['Wind'] = np.array(param_excel_df['Wind_MIN_Oct_26'])\n",
        "\n",
        "df.to_csv(r\"D:\\Code\\Temp_Prediction_Amsterdam\\Param\\Parameters_DataFrame_MIN_Oct_26.csv\",index=False)\n",
        "\n"
      ],
      "metadata": {
        "id": "LN57_FoJKkWi"
      },
      "execution_count": null,
      "outputs": []
    }
  ]
}