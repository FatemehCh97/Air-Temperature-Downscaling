{
  "cells": [
    {
      "cell_type": "markdown",
      "metadata": {
        "id": "5Ua1OdRCO72I"
      },
      "source": [
        "# Load Packages and Data"
      ]
    },
    {
      "cell_type": "code",
      "execution_count": null,
      "metadata": {
        "id": "Yrk2z8OrM2_O"
      },
      "outputs": [],
      "source": [
        "import pandas as pd\n",
        "from netCDF4 import Dataset\n",
        "import numpy as np\n",
        "import os"
      ]
    },
    {
      "cell_type": "code",
      "execution_count": null,
      "metadata": {
        "id": "Ej6aD3SLO-gO"
      },
      "outputs": [],
      "source": [
        "param_excel = r\"D:\\Code\\Amsterdam Parameter\\Train_Test\\Amst_Points_MultiValues.xls\" # points within Amsterdam's study area, captured at a 100-meter resolution (UrbClim resolution)\n",
        "nc_test_file = r\"D:\\Data\\Urban Climate\\Air Temp\\tas_Amsterdam_UrbClim_2017_01_v1.0.nc\"\n",
        "temp_dir = r\"D:\\Data\\Urban Climate\\Air Temp\"\n",
        "wind_dir = r\"D:\\Data\\Urban Climate\\Wind Speed\"\n",
        "rh_dir = r\"D:\\Data\\Urban Climate\\Relative Humidity\""
      ]
    },
    {
      "cell_type": "markdown",
      "metadata": {
        "id": "1ePTyDdsPlvB"
      },
      "source": [
        "# Parameters"
      ]
    },
    {
      "cell_type": "code",
      "execution_count": null,
      "metadata": {
        "id": "Q2riBmXVPnVd"
      },
      "outputs": [],
      "source": [
        "month_dict = {\"01\":\"Jan\", \"05\":\"May\", \"07\":\"July\", \"10\":\"Oct\"}\n",
        "arr_shape = np.zeros((31, 301, 301))"
      ]
    },
    {
      "cell_type": "code",
      "execution_count": null,
      "metadata": {
        "id": "TRUz76mDPr4J"
      },
      "outputs": [],
      "source": [
        "temp_list = []\n",
        "wind_list = []\n",
        "rh_list = []\n",
        "temp_max_list = []\n",
        "temp_min_list = []\n",
        "wind_max_list = []\n",
        "wind_min_list = []\n",
        "rh_max_list = []\n",
        "rh_min_list = []"
      ]
    },
    {
      "cell_type": "code",
      "execution_count": null,
      "metadata": {
        "id": "9CHvrmm_Puzi"
      },
      "outputs": [],
      "source": [
        "for month_name in month_dict.values():\n",
        "\n",
        "    # Load Average/Maximum/Minimum Temperature\n",
        "    loaded_arr_temp = np.loadtxt(os.path.join(temp_dir, \"Output\\Daily_Average\", \"avg_temp_arr_\" + month_name + \"_3sigma.txt\"))\n",
        "\n",
        "    temp_list.append(loaded_arr_temp.reshape(\n",
        "        loaded_arr_temp.shape[0], loaded_arr_temp.shape[1] // arr_shape.shape[2], arr_shape.shape[2]))\n",
        "\n",
        "    loaded_arr_temp_max = np.loadtxt(os.path.join(temp_dir, \"Output\\Daily_Maximum\", \"max_temp_arr_\" + month_name + \".txt\"))\n",
        "\n",
        "    temp_max_list.append(loaded_arr_temp_max.reshape(\n",
        "        loaded_arr_temp_max.shape[0], loaded_arr_temp_max.shape[1] // arr_shape.shape[2], arr_shape.shape[2]))\n",
        "\n",
        "    loaded_arr_temp_min = np.loadtxt(os.path.join(temp_dir, \"Output\\Daily_Minimum\", \"min_temp_arr_\" + month_name + \".txt\"))\n",
        "\n",
        "    temp_min_list.append(loaded_arr_temp_min.reshape(\n",
        "        loaded_arr_temp_min.shape[0], loaded_arr_temp_min.shape[1] // arr_shape.shape[2], arr_shape.shape[2]))\n",
        "\n",
        "    # Load Wind Speed Arrays\n",
        "    loaded_arr_wind = np.loadtxt(os.path.join(wind_dir, \"Output\\Daily_Average\", \"avg_wind_arr_\" + month_name + \"_3sigma.txt\"))\n",
        "\n",
        "    wind_list.append(loaded_arr_wind.reshape(\n",
        "        loaded_arr_wind.shape[0], loaded_arr_wind.shape[1] // arr_shape.shape[2], arr_shape.shape[2]))\n",
        "\n",
        "    loaded_arr_wind_max = np.loadtxt(os.path.join(wind_dir, \"Output\\Daily_Maximum\" , \"max_wind_arr_\" + month_name + \".txt\"))\n",
        "\n",
        "    wind_max_list.append(loaded_arr_wind_max.reshape(\n",
        "        loaded_arr_wind_max.shape[0], loaded_arr_wind_max.shape[1] // arr_shape.shape[2], arr_shape.shape[2]))\n",
        "\n",
        "    loaded_arr_wind_min = np.loadtxt(os.path.join(wind_dir, \"Output\\Daily_Minimum\" , \"min_wind_arr_\" + month_name + \".txt\"))\n",
        "\n",
        "    wind_min_list.append(loaded_arr_wind_min.reshape(\n",
        "        loaded_arr_wind_min.shape[0], loaded_arr_wind_min.shape[1] // arr_shape.shape[2], arr_shape.shape[2]))\n",
        "\n",
        "    # Load Relative Humidity Arrays\n",
        "    loaded_arr_rh = np.loadtxt(os.path.join(rh_dir, \"Output\\Daily_Average\", \"avg_rh_arr_\" + month_name + \"_3sigma.txt\"))\n",
        "\n",
        "    rh_list.append(loaded_arr_rh.reshape(\n",
        "        loaded_arr_rh.shape[0], loaded_arr_rh.shape[1] // arr_shape.shape[2], arr_shape.shape[2]))\n",
        "\n",
        "    loaded_arr_rh_max = np.loadtxt(os.path.join(rh_dir, \"Output\\Daily_Maximum\" , \"max_rh_arr_\" + month_name + \".txt\"))\n",
        "\n",
        "    rh_max_list.append(loaded_arr_rh_max.reshape(\n",
        "        loaded_arr_rh_max.shape[0], loaded_arr_rh_max.shape[1] // arr_shape.shape[2], arr_shape.shape[2]))\n",
        "\n",
        "    loaded_arr_rh_min = np.loadtxt(os.path.join(rh_dir, \"Output\\Daily_Minimum\" , \"min_rh_arr_\" + month_name + \".txt\"))\n",
        "\n",
        "    rh_min_list.append(loaded_arr_rh_min.reshape(\n",
        "        loaded_arr_rh_min.shape[0], loaded_arr_rh_min.shape[1] // arr_shape.shape[2], arr_shape.shape[2]))"
      ]
    },
    {
      "cell_type": "code",
      "execution_count": null,
      "metadata": {
        "id": "qVIFWOzZP5l4"
      },
      "outputs": [],
      "source": [
        "n1 = Dataset(nc_test_file)\n",
        "# lat1 = n1.variables['latitude'][:]\n",
        "# lon1 = n1.variables['longitude'][:]\n",
        "x = n1.variables['x'][:]\n",
        "y = n1.variables['y'][:]"
      ]
    },
    {
      "cell_type": "code",
      "execution_count": null,
      "metadata": {
        "id": "NmvmbW_4QHpH"
      },
      "outputs": [],
      "source": [
        "temp = []\n",
        "for i in range(len(temp_list)):\n",
        "    for j in range(0, 31):\n",
        "        temp.append(np.flipud(temp_list[i][j][105:219, 45:213]))\n",
        "\n",
        "wind = []\n",
        "for i in range(len(wind_list)):\n",
        "    for j in range(0, 31):\n",
        "        wind.append(np.flipud(wind_list[i][j][105:219, 45:213]))\n",
        "\n",
        "rh = []\n",
        "for i in range(len(rh_list)):\n",
        "    for j in range(0, 31):\n",
        "        rh.append(np.flipud(rh_list[i][j][105:219, 45:213]))\n",
        "\n",
        "temp_max = []\n",
        "for i in range(len(temp_max_list)):\n",
        "    for j in range(0, 31):\n",
        "        temp_max.append(np.flipud(temp_max_list[i][j][105:219, 45:213]))\n",
        "        \n",
        "wind_max = []\n",
        "for i in range(len(wind_max_list)):\n",
        "    for j in range(0, 31):\n",
        "        wind_max.append(np.flipud(wind_max_list[i][j][105:219, 45:213]))\n",
        "        \n",
        "rh_max = []\n",
        "for i in range(len(rh_max_list)):\n",
        "    for j in range(0, 31):\n",
        "        rh_max.append(np.flipud(rh_max_list[i][j][105:219, 45:213]))\n",
        "        \n",
        "temp_min = []\n",
        "for i in range(len(temp_min_list)):\n",
        "    for j in range(0, 31):\n",
        "        temp_min.append(np.flipud(temp_min_list[i][j][105:219, 45:213]))\n",
        "        \n",
        "wind_min = []\n",
        "for i in range(len(wind_min_list)):\n",
        "    for j in range(0, 31):\n",
        "        wind_min.append(np.flipud(wind_min_list[i][j][105:219, 45:213]))\n",
        "        \n",
        "rh_min = []\n",
        "for i in range(len(rh_min_list)):\n",
        "    for j in range(0, 31):\n",
        "        rh_min.append(np.flipud(rh_min_list[i][j][105:219, 45:213]))"
      ]
    },
    {
      "cell_type": "code",
      "execution_count": null,
      "metadata": {
        "id": "Som7_2QHTrWj"
      },
      "outputs": [],
      "source": [
        "param_excel_df = pd.read_excel(param_excel)\n",
        "\n",
        "param_excel_df_sort = param_excel_df.sort_values('ORIG_FID')\n",
        "\n",
        "# point_id_sort_arr = np.reshape(np.array(param_excel_df['OBJECTID']), (14,5))\n",
        "# point_id_sort = np.transpose(point_id_sort_arr)[len(point_id_sort_arr)-1::-1]\n",
        "# param_excel_df['Id'] = np.ndarray.flatten(point_id_sort)"
      ]
    },
    {
      "cell_type": "markdown",
      "metadata": {
        "id": "-2XMjs_1T2TK"
      },
      "source": [
        "## Minimum"
      ]
    },
    {
      "cell_type": "code",
      "execution_count": null,
      "metadata": {
        "id": "ZPEwYyGSTuPH"
      },
      "outputs": [],
      "source": [
        "# index = 4 month * 31 days * number of point (= 19152)\n",
        "df_min = pd.DataFrame(columns=['PointID', 'X', 'Y', 'Area', 'H', 'Wall', 'DP', 'DW', 'LAI', 'Previous', 'SVF', 'SR', 'Wind_Min', 'RH_Min', 'DoY', 'Temp_Min'], index=range(2374848))\n"
      ]
    },
    {
      "cell_type": "code",
      "execution_count": null,
      "metadata": {
        "id": "Bs2vdFDJUISJ"
      },
      "outputs": [],
      "source": [
        "df_min['PointID'] = np.tile(np.arange(1, 19153), 124)\n",
        "\n",
        "# 0:19152 (point number)*31 - 1 , 19152*31: 19152*31 * 2 -1, ...\n",
        "df_min.loc[0:593711, 'DoY'] = np.repeat(np.arange(1, 32), 19152)\n",
        "df_min.loc[593712:1187423, 'DoY'] = np.repeat(np.arange(121, 152), 19152)\n",
        "df_min.loc[1187424:1781135, 'DoY'] = np.repeat(np.arange(182, 213), 19152)\n",
        "df_min.loc[1781136:, 'DoY'] = np.repeat(np.arange(274, 305), 19152)\n",
        "\n",
        "\n",
        "df_min['Area'] = np.tile(param_excel_df_sort['area_intersect_50'], 124)\n",
        "df_min['H'] = np.tile(param_excel_df_sort['zmed_avg_50_amst'], 124)\n",
        "df_min['Wall'] = np.tile(param_excel_df_sort['wall_intersect_50'], 124)\n",
        "df_min['DP'] = np.tile(param_excel_df_sort['DP_Avg_50_amst'], 124)\n",
        "df_min['DW'] = np.tile(param_excel_df_sort['DW_Avg_50_amst'], 124)\n",
        "df_min['LAI'] = np.tile(param_excel_df_sort['LAI_Resample_res5m'], 124)\n",
        "df_min['Previous'] = np.tile(param_excel_df_sort['Previous_Resample_res5m'], 124)\n",
        "df_min['SVF'] = np.tile(param_excel_df_sort['SVF_Avg_50_amst'], 124)\n",
        "\n",
        "df_min['X'] = np.tile(np.repeat(x[45:213], 114), 124)\n",
        "df_min['Y'] = np.tile(y[105:219], 168*124)"
      ]
    },
    {
      "cell_type": "code",
      "execution_count": null,
      "metadata": {
        "id": "ca8tmpLcUgie"
      },
      "outputs": [],
      "source": [
        "for k in np.arange(0, 31):\n",
        "    df_min.loc[k*19152:k*19152+19151, 'SR'] = np.array(param_excel_df_sort['b' + str(k+1) + '_SolarRad_Jan_Avg_50_res5'])\n",
        "    df_min.loc[k*19152+593712:k*19152+593712+19151, 'SR'] = np.array(param_excel_df_sort['b' + str(k+1) + '_SolarRad_May_Avg_50_res5'])\n",
        "    df_min.loc[k*19152+1187424:k*19152+1187424+19151, 'SR'] = np.array(param_excel_df_sort['b' + str(k+1) + '_SolarRad_July_Avg_50_res5'])\n",
        "    df_min.loc[k*19152+1781136:k*19152+1781136+19151, 'SR'] = np.array(param_excel_df_sort['b' + str(k+1) + '_SolarRad_Oct_Avg_50_res5'])"
      ]
    },
    {
      "cell_type": "code",
      "execution_count": null,
      "metadata": {
        "id": "BJj44SXUUlMJ"
      },
      "outputs": [],
      "source": [
        "for k in np.arange(0, len(temp_min)):\n",
        "    temp_sort = np.transpose(temp_min[k][len(temp_min[0])-1::-1])\n",
        "    df_min.loc[k*19152:k*19152+19151, 'Temp_Min'] = np.ndarray.flatten(temp_sort)\n",
        "    rh_sort = np.transpose(rh_min[k][len(rh_min[0])-1::-1])\n",
        "    df_min.loc[k*19152:k*19152+19151, 'RH_Min'] = np.ndarray.flatten(rh_sort)\n",
        "    wind_sort = np.transpose(wind_min[k][len(wind_min[0])-1::-1])\n",
        "    df_min.loc[k*19152:k*19152+19151, 'Wind_Min'] = np.ndarray.flatten(wind_sort)"
      ]
    },
    {
      "cell_type": "code",
      "execution_count": null,
      "metadata": {
        "id": "m96N5KtNOpDn"
      },
      "outputs": [],
      "source": [
        "df_min.to_csv(r\"D:\\Code\\Amsterdam Parameter\\Train_Test\\Parameters_DataFrame_Min.csv\",index=False)"
      ]
    },
    {
      "cell_type": "markdown",
      "metadata": {
        "id": "L4sBja-3Vw67"
      },
      "source": [
        "## Maximum"
      ]
    },
    {
      "cell_type": "code",
      "execution_count": null,
      "metadata": {
        "id": "cPRqv7nlWJSo"
      },
      "outputs": [],
      "source": [
        "# index = 4 month * 31 days * number of point (= 19152)\n",
        "df_max = pd.DataFrame(columns=['PointID', 'X', 'Y', 'Area', 'H', 'Wall', 'DP', 'DW', 'LAI', 'Previous', 'SVF', 'SR', 'Wind_Max', 'RH_Max', 'DoY', 'Temp_Max'], index=range(2374848))\n"
      ]
    },
    {
      "cell_type": "code",
      "execution_count": null,
      "metadata": {
        "id": "k5_HqiIXWJS1"
      },
      "outputs": [],
      "source": [
        "df_max['PointID'] = np.tile(np.arange(1, 19153), 124)\n",
        "\n",
        "# 0:19152 (point number)*31 - 1 , 19152*31: 19152*31 * 2 -1, ...\n",
        "df_max.loc[0:593711, 'DoY'] = np.repeat(np.arange(1, 32), 19152)\n",
        "df_max.loc[593712:1187423, 'DoY'] = np.repeat(np.arange(121, 152), 19152)\n",
        "df_max.loc[1187424:1781135, 'DoY'] = np.repeat(np.arange(182, 213), 19152)\n",
        "df_max.loc[1781136:, 'DoY'] = np.repeat(np.arange(274, 305), 19152)\n",
        "\n",
        "\n",
        "df_max['Area'] = np.tile(param_excel_df_sort['area_intersect_50'], 124)\n",
        "df_max['H'] = np.tile(param_excel_df_sort['zmed_avg_50_amst'], 124)\n",
        "df_max['Wall'] = np.tile(param_excel_df_sort['wall_intersect_50'], 124)\n",
        "df_max['DP'] = np.tile(param_excel_df_sort['DP_Avg_50_amst'], 124)\n",
        "df_max['DW'] = np.tile(param_excel_df_sort['DW_Avg_50_amst'], 124)\n",
        "df_max['LAI'] = np.tile(param_excel_df_sort['LAI_Resample_res5m'], 124)\n",
        "df_max['Previous'] = np.tile(param_excel_df_sort['Previous_Resample_res5m'], 124)\n",
        "df_max['SVF'] = np.tile(param_excel_df_sort['SVF_Avg_50_amst'], 124)\n",
        "\n",
        "df_max['X'] = np.tile(np.repeat(x[45:213], 114), 124)\n",
        "df_max['Y'] = np.tile(y[105:219], 168*124)"
      ]
    },
    {
      "cell_type": "code",
      "execution_count": null,
      "metadata": {
        "id": "YnLZGPOeWJS1"
      },
      "outputs": [],
      "source": [
        "for k in np.arange(0, 31):\n",
        "    df_max.loc[k*19152:k*19152+19151, 'SR'] = np.array(param_excel_df_sort['b' + str(k+1) + '_SolarRad_Jan_Avg_50_res5'])\n",
        "    df_max.loc[k*19152+593712:k*19152+593712+19151, 'SR'] = np.array(param_excel_df_sort['b' + str(k+1) + '_SolarRad_May_Avg_50_res5'])\n",
        "    df_max.loc[k*19152+1187424:k*19152+1187424+19151, 'SR'] = np.array(param_excel_df_sort['b' + str(k+1) + '_SolarRad_July_Avg_50_res5'])\n",
        "    df_max.loc[k*19152+1781136:k*19152+1781136+19151, 'SR'] = np.array(param_excel_df_sort['b' + str(k+1) + '_SolarRad_Oct_Avg_50_res5'])"
      ]
    },
    {
      "cell_type": "code",
      "execution_count": null,
      "metadata": {
        "id": "El9g1bARWJS2"
      },
      "outputs": [],
      "source": [
        "for k in np.arange(0, len(temp_max)):\n",
        "    temp_sort = np.transpose(temp_max[k][len(temp_max[0])-1::-1])\n",
        "    df_max.loc[k*19152:k*19152+19151, 'Temp_Max'] = np.ndarray.flatten(temp_sort)\n",
        "    rh_sort = np.transpose(rh_max[k][len(rh_max[0])-1::-1])\n",
        "    df_max.loc[k*19152:k*19152+19151, 'RH_Max'] = np.ndarray.flatten(rh_sort)\n",
        "    wind_sort = np.transpose(wind_max[k][len(wind_max[0])-1::-1])\n",
        "    df_max.loc[k*19152:k*19152+19151, 'Wind_Max'] = np.ndarray.flatten(wind_sort)"
      ]
    },
    {
      "cell_type": "code",
      "execution_count": null,
      "metadata": {
        "id": "3Y6cMQuiWJS2"
      },
      "outputs": [],
      "source": [
        "df_max.to_csv(r\"D:\\Code\\Amsterdam Parameter\\Train_Test\\Parameters_DataFrame_Max.csv\",index=False)"
      ]
    },
    {
      "cell_type": "markdown",
      "metadata": {
        "id": "1UtBTNRXW8qx"
      },
      "source": [
        "## Average"
      ]
    },
    {
      "cell_type": "code",
      "execution_count": null,
      "metadata": {
        "id": "f5iEtvokX37q"
      },
      "outputs": [],
      "source": [
        "df = pd.DataFrame(columns=['PointID', 'X', 'Y', 'Area', 'H', 'Wall', 'DP', 'DW', 'LAI', 'Previous', 'SVF', 'SR', 'Wind', 'RH', 'DoY', 'Temp'], index=range(2374848))"
      ]
    },
    {
      "cell_type": "code",
      "execution_count": null,
      "metadata": {
        "id": "xmRVjL69X2J8"
      },
      "outputs": [],
      "source": [
        "df['PointID'] = np.tile(np.arange(1, 19153), 124)\n",
        "\n",
        "\n",
        "df.loc[0:593711, 'DoY'] = np.repeat(np.arange(1, 32), 19152)\n",
        "df.loc[593712:1187423, 'DoY'] = np.repeat(np.arange(121, 152), 19152)\n",
        "df.loc[1187424:1781135, 'DoY'] = np.repeat(np.arange(182, 213), 19152)\n",
        "df.loc[1781136:, 'DoY'] = np.repeat(np.arange(274, 305), 19152)\n",
        "\n",
        "\n",
        "df['Area'] = np.tile(param_excel_df_sort['area_intersect_50'], 124)\n",
        "df['H'] = np.tile(param_excel_df_sort['zmed_avg_50_amst'], 124)\n",
        "df['Wall'] = np.tile(param_excel_df_sort['wall_intersect_50'], 124)\n",
        "df['DP'] = np.tile(param_excel_df_sort['DP_Avg_50_amst'], 124)\n",
        "df['DW'] = np.tile(param_excel_df_sort['DW_Avg_50_amst'], 124)\n",
        "df['LAI'] = np.tile(param_excel_df_sort['LAI_Resample_res5m'], 124)\n",
        "df['Previous'] = np.tile(param_excel_df_sort['Previous_Resample_res5m'], 124)\n",
        "df['SVF'] = np.tile(param_excel_df_sort['SVF_Avg_50_amst'], 124)\n",
        "\n",
        "df['X'] = np.tile(np.repeat(x[45:213], 114), 124)\n",
        "df['Y'] = np.tile(y[105:219], 168*124)"
      ]
    },
    {
      "cell_type": "code",
      "execution_count": null,
      "metadata": {
        "id": "drl9vfOkYBSj"
      },
      "outputs": [],
      "source": [
        "for k in np.arange(0, 31):\n",
        "    df.loc[k*19152:k*19152+19151, 'SR'] = np.array(param_excel_df_sort['b' + str(k+1) + '_SolarRad_Jan_Avg_50_res5'])\n",
        "    df.loc[k*19152+593712:k*19152+593712+19151, 'SR'] = np.array(param_excel_df_sort['b' + str(k+1) + '_SolarRad_May_Avg_50_res5'])\n",
        "    df.loc[k*19152+1187424:k*19152+1187424+19151, 'SR'] = np.array(param_excel_df_sort['b' + str(k+1) + '_SolarRad_July_Avg_50_res5'])\n",
        "    df.loc[k*19152+1781136:k*19152+1781136+19151, 'SR'] = np.array(param_excel_df_sort['b' + str(k+1) + '_SolarRad_Oct_Avg_50_res5'])"
      ]
    },
    {
      "cell_type": "code",
      "execution_count": null,
      "metadata": {
        "id": "xzeiB5KoYCYa"
      },
      "outputs": [],
      "source": [
        "for k in np.arange(0, len(temp)):\n",
        "    temp_sort = np.transpose(temp[k][len(temp[0])-1::-1])\n",
        "    df.loc[k*19152:k*19152+19151, 'Temp'] = np.ndarray.flatten(temp_sort)\n",
        "    rh_sort = np.transpose(rh[k][len(rh[0])-1::-1])\n",
        "    df.loc[k*19152:k*19152+19151, 'RH'] = np.ndarray.flatten(rh_sort)\n",
        "    wind_sort = np.transpose(wind[k][len(wind[0])-1::-1])\n",
        "    df.loc[k*19152:k*19152+19151, 'Wind'] = np.ndarray.flatten(wind_sort)"
      ]
    },
    {
      "cell_type": "code",
      "execution_count": null,
      "metadata": {
        "id": "l58PBm7gYIun"
      },
      "outputs": [],
      "source": [
        "df.to_csv(r\"D:\\Code\\Amsterdam Parameter\\Train_Test\\Parameters_DataFrame_Avg.csv\",index=False)"
      ]
    }
  ],
  "metadata": {
    "colab": {
      "provenance": []
    },
    "kernelspec": {
      "display_name": "Python 3",
      "name": "python3"
    },
    "language_info": {
      "name": "python"
    }
  },
  "nbformat": 4,
  "nbformat_minor": 0
}
